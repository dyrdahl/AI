{
  "nbformat": 4,
  "nbformat_minor": 0,
  "metadata": {
    "colab": {
      "provenance": [],
      "authorship_tag": "ABX9TyNdCCLVK6q7yIR5aAZZC6hP",
      "include_colab_link": true
    },
    "kernelspec": {
      "name": "python3",
      "display_name": "Python 3"
    },
    "language_info": {
      "name": "python"
    }
  },
  "cells": [
    {
      "cell_type": "markdown",
      "metadata": {
        "id": "view-in-github",
        "colab_type": "text"
      },
      "source": [
        "<a href=\"https://colab.research.google.com/github/dyrdahl/AI/blob/master/AI_Project_1.ipynb\" target=\"_parent\"><img src=\"https://colab.research.google.com/assets/colab-badge.svg\" alt=\"Open In Colab\"/></a>"
      ]
    },
    {
      "cell_type": "code",
      "execution_count": null,
      "metadata": {
        "colab": {
          "base_uri": "https://localhost:8080/"
        },
        "id": "HuwIZwY8NA8Z",
        "outputId": "815342c8-9bef-4932-ac45-9380c8822d00"
      },
      "outputs": [
        {
          "output_type": "stream",
          "name": "stdout",
          "text": [
            "Circle 1: True\n",
            "Circle 2: False\n",
            "Circle 3: False\n",
            "Circle 4: True\n",
            "Circle 5: False\n",
            "Circle 6: False\n",
            "Circle 7: True\n"
          ]
        }
      ],
      "source": [
        "import math\n",
        "\n",
        "def compare_adjacent_circles(circle_a, circle_b):\n",
        "    x1, y1, r1 = circle_a\n",
        "    x2, y2, r2 = circle_b\n",
        "\n",
        "    # Distance between the two circles centers\n",
        "    distance = math.sqrt(((x2 - x1) ** 2) + ((y2 - y1) ** 2))\n",
        "\n",
        "    # absolute difference\n",
        "    abs_diff = abs(r1 - r2)\n",
        "\n",
        "    # print(f\"abs_diff: {abs_diff}\")\n",
        "    # Sum of radii\n",
        "    rad_sum = r1 + r2\n",
        "\n",
        "    # Check if circles overlap\n",
        "    if abs_diff < distance <= rad_sum:\n",
        "        return True\n",
        "\n",
        "    return False\n",
        "\n",
        "def circle_struct(circles):\n",
        "    n = len(circles)\n",
        "    graph = {i: [] for i in range(n)}  # Create an empty adjacency list\n",
        "\n",
        "    # Build the graph: connect nodes (circles) if they overlap\n",
        "    for i in range(n):\n",
        "        for j in range(i + 1, n):\n",
        "            if compare_adjacent_circles(circles[i], circles[j]):\n",
        "                graph[i].append(j)\n",
        "                graph[j].append(i)\n",
        "\n",
        "    # Check if any circle has no adjacent nodes, return False if found\n",
        "    for circle, adjacent_nodes in graph.items():\n",
        "        if not adjacent_nodes:\n",
        "            # print(f\"Circle {circle} has no adjacent nodes.\")\n",
        "            return False\n",
        "\n",
        "    return True\n",
        "\n",
        "if __name__ == '__main__':\n",
        "    circle1 = [(1, 3, 0.7), (2, 3, 0.4), (3, 3, 0.9)]  # True\n",
        "    circle2 = [(1.5, 1.5, 1.3), (4, 4, 0.7)]  # False\n",
        "    circle3 = [(0.5, 0.5, 0.5), (1.5, 1.5, 1.1), (0.7, 0.7, 0.4), (4, 4, 0.7)]  # False\n",
        "    circle4 = [(0.5, 0.5, 0.5), (1.5, 1.5, 1.1), (0.7, 0.7, 0.4), (4, 4, 0.7), (3, 5, 0.8), (3.7, 2, 1.6)]  # True\n",
        "    circle5 = [(3.5, 3.5, 1), (4, 4, 3), (3, 4, 2), (4, 4, 2)]  # False\n",
        "    circle6 = [(2, 2.5, 1.8), (2, 2.5, 1), (3.4, 2.3, 0.2)]  # False\n",
        "    circle7 = [(1, 1, 1), (3, 1, 1), (3, 3, 1)]  # True\n",
        "\n",
        "    print(f\"Circle 1: {circle_struct(circle1)}\")     # True\n",
        "    print(f\"Circle 2: {circle_struct(circle2)}\")     # False\n",
        "    print(f\"Circle 3: {circle_struct(circle3)}\")     # False\n",
        "    print(f\"Circle 4: {circle_struct(circle4)}\")     # True\n",
        "    print(f\"Circle 5: {circle_struct(circle5)}\")     # False\n",
        "    print(f\"Circle 6: {circle_struct(circle6)}\")     # False\n",
        "    print(f\"Circle 7: {circle_struct(circle7)}\")     # True\n"
      ]
    },
    {
      "cell_type": "markdown",
      "source": [],
      "metadata": {
        "id": "aYDyHHYPNmhF"
      }
    }
  ]
}